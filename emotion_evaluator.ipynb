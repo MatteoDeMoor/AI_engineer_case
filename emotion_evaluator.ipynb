{
 "cells": [
  {
   "cell_type": "markdown",
   "id": "929b3c1a",
   "metadata": {},
   "source": [
    "# Imports"
   ]
  },
  {
   "cell_type": "code",
   "execution_count": null,
   "id": "12528f40",
   "metadata": {},
   "outputs": [],
   "source": [
    "import pandas as pd\n",
    "from transformers import pipeline\n",
    "from tqdm import tqdm\n",
    "from sklearn.metrics import accuracy_score, classification_report, confusion_matrix"
   ]
  },
  {
   "cell_type": "markdown",
   "id": "80ba9d2e",
   "metadata": {},
   "source": [
    "# Load dataset"
   ]
  },
  {
   "cell_type": "code",
   "execution_count": 6,
   "id": "97cfa84d",
   "metadata": {},
   "outputs": [],
   "source": [
    "df = pd.read_csv('data/IMDB-movie-reviews.csv', sep=';', encoding='ISO-8859-1')\n",
    "df = df[['review', 'sentiment']]"
   ]
  },
  {
   "cell_type": "code",
   "execution_count": 7,
   "metadata": {},
   "outputs": [
    {
     "data": {
      "text/html": [
       "<div>\n",
       "<style scoped>\n",
       "    .dataframe tbody tr th:only-of-type {\n",
       "        vertical-align: middle;\n",
       "    }\n",
       "\n",
       "    .dataframe tbody tr th {\n",
       "        vertical-align: top;\n",
       "    }\n",
       "\n",
       "    .dataframe thead th {\n",
       "        text-align: right;\n",
       "    }\n",
       "</style>\n",
       "<table border=\"1\" class=\"dataframe\">\n",
       "  <thead>\n",
       "    <tr style=\"text-align: right;\">\n",
       "      <th></th>\n",
       "      <th>review</th>\n",
       "      <th>sentiment</th>\n",
       "    </tr>\n",
       "  </thead>\n",
       "  <tbody>\n",
       "    <tr>\n",
       "      <th>0</th>\n",
       "      <td>One of the other reviewers has mentioned that ...</td>\n",
       "      <td>positive</td>\n",
       "    </tr>\n",
       "    <tr>\n",
       "      <th>1</th>\n",
       "      <td>A wonderful little production. &lt;br /&gt;&lt;br /&gt;The...</td>\n",
       "      <td>positive</td>\n",
       "    </tr>\n",
       "    <tr>\n",
       "      <th>2</th>\n",
       "      <td>I thought this was a wonderful way to spend ti...</td>\n",
       "      <td>positive</td>\n",
       "    </tr>\n",
       "    <tr>\n",
       "      <th>3</th>\n",
       "      <td>Basically there's a family where a little boy ...</td>\n",
       "      <td>negative</td>\n",
       "    </tr>\n",
       "    <tr>\n",
       "      <th>4</th>\n",
       "      <td>Petter Mattei's \"Love in the Time of Money\" is...</td>\n",
       "      <td>positive</td>\n",
       "    </tr>\n",
       "    <tr>\n",
       "      <th>5</th>\n",
       "      <td>Probably my all-time favorite movie, a story o...</td>\n",
       "      <td>positive</td>\n",
       "    </tr>\n",
       "    <tr>\n",
       "      <th>6</th>\n",
       "      <td>I sure would like to see a resurrection of a u...</td>\n",
       "      <td>positive</td>\n",
       "    </tr>\n",
       "    <tr>\n",
       "      <th>7</th>\n",
       "      <td>This show was an amazing, fresh &amp; innovative i...</td>\n",
       "      <td>negative</td>\n",
       "    </tr>\n",
       "    <tr>\n",
       "      <th>8</th>\n",
       "      <td>Encouraged by the positive comments about this...</td>\n",
       "      <td>negative</td>\n",
       "    </tr>\n",
       "    <tr>\n",
       "      <th>9</th>\n",
       "      <td>If you like original gut wrenching laughter yo...</td>\n",
       "      <td>positive</td>\n",
       "    </tr>\n",
       "  </tbody>\n",
       "</table>\n",
       "</div>"
      ],
      "text/plain": [
       "                                              review sentiment\n",
       "0  One of the other reviewers has mentioned that ...  positive\n",
       "1  A wonderful little production. <br /><br />The...  positive\n",
       "2  I thought this was a wonderful way to spend ti...  positive\n",
       "3  Basically there's a family where a little boy ...  negative\n",
       "4  Petter Mattei's \"Love in the Time of Money\" is...  positive\n",
       "5  Probably my all-time favorite movie, a story o...  positive\n",
       "6  I sure would like to see a resurrection of a u...  positive\n",
       "7  This show was an amazing, fresh & innovative i...  negative\n",
       "8  Encouraged by the positive comments about this...  negative\n",
       "9  If you like original gut wrenching laughter yo...  positive"
      ]
     },
     "execution_count": 7,
     "metadata": {},
     "output_type": "execute_result"
    }
   ],
   "source": [
    "df.head(10)"
   ]
  },
  {
   "cell_type": "markdown",
   "id": "f4e23c76",
   "metadata": {},
   "source": [
    "# Use pretrained models"
   ]
  },
  {
   "cell_type": "code",
   "execution_count": 8,
   "metadata": {},
   "outputs": [
    {
     "data": {
      "application/vnd.jupyter.widget-view+json": {
       "model_id": "339a3a25e24e42b2816ce76ec1b90eca",
       "version_major": 2,
       "version_minor": 0
      },
      "text/plain": [
       "config.json:   0%|          | 0.00/747 [00:00<?, ?B/s]"
      ]
     },
     "metadata": {},
     "output_type": "display_data"
    },
    {
     "name": "stderr",
     "output_type": "stream",
     "text": [
      "c:\\Python311\\Lib\\site-packages\\huggingface_hub\\file_download.py:147: UserWarning: `huggingface_hub` cache-system uses symlinks by default to efficiently store duplicated files but your machine does not support them in C:\\Users\\Matteo\\.cache\\huggingface\\hub\\models--cardiffnlp--twitter-roberta-base-sentiment. Caching files will still work but in a degraded version that might require more space on your disk. This warning can be disabled by setting the `HF_HUB_DISABLE_SYMLINKS_WARNING` environment variable. For more details, see https://huggingface.co/docs/huggingface_hub/how-to-cache#limitations.\n",
      "To support symlinks on Windows, you either need to activate Developer Mode or to run Python as an administrator. In order to activate developer mode, see this article: https://docs.microsoft.com/en-us/windows/apps/get-started/enable-your-device-for-development\n",
      "  warnings.warn(message)\n"
     ]
    },
    {
     "data": {
      "application/vnd.jupyter.widget-view+json": {
       "model_id": "e41bb6cb40454712a9440fc1a60312e0",
       "version_major": 2,
       "version_minor": 0
      },
      "text/plain": [
       "pytorch_model.bin:   0%|          | 0.00/499M [00:00<?, ?B/s]"
      ]
     },
     "metadata": {},
     "output_type": "display_data"
    },
    {
     "data": {
      "application/vnd.jupyter.widget-view+json": {
       "model_id": "418c24f506b54d09b4d2dafc45706012",
       "version_major": 2,
       "version_minor": 0
      },
      "text/plain": [
       "vocab.json:   0%|          | 0.00/899k [00:00<?, ?B/s]"
      ]
     },
     "metadata": {},
     "output_type": "display_data"
    },
    {
     "data": {
      "application/vnd.jupyter.widget-view+json": {
       "model_id": "20e647d158bc46f1b4374096eafd8780",
       "version_major": 2,
       "version_minor": 0
      },
      "text/plain": [
       "merges.txt:   0%|          | 0.00/456k [00:00<?, ?B/s]"
      ]
     },
     "metadata": {},
     "output_type": "display_data"
    },
    {
     "data": {
      "application/vnd.jupyter.widget-view+json": {
       "model_id": "c90b92490e1a4e4f81c0157863793170",
       "version_major": 2,
       "version_minor": 0
      },
      "text/plain": [
       "special_tokens_map.json:   0%|          | 0.00/150 [00:00<?, ?B/s]"
      ]
     },
     "metadata": {},
     "output_type": "display_data"
    },
    {
     "name": "stderr",
     "output_type": "stream",
     "text": [
      "c:\\Python311\\Lib\\site-packages\\transformers\\tokenization_utils_base.py:1617: FutureWarning: `clean_up_tokenization_spaces` was not set. It will be set to `True` by default. This behavior will be deprecated in transformers v4.45, and will be then set to `False` by default. For more details check this issue: https://github.com/huggingface/transformers/issues/31884\n",
      "  warnings.warn(\n"
     ]
    },
    {
     "data": {
      "application/vnd.jupyter.widget-view+json": {
       "model_id": "927c0ba4061e4ad2b9304f7891a1d20c",
       "version_major": 2,
       "version_minor": 0
      },
      "text/plain": [
       "config.json:   0%|          | 0.00/687 [00:00<?, ?B/s]"
      ]
     },
     "metadata": {},
     "output_type": "display_data"
    },
    {
     "name": "stderr",
     "output_type": "stream",
     "text": [
      "c:\\Python311\\Lib\\site-packages\\huggingface_hub\\file_download.py:147: UserWarning: `huggingface_hub` cache-system uses symlinks by default to efficiently store duplicated files but your machine does not support them in C:\\Users\\Matteo\\.cache\\huggingface\\hub\\models--siebert--sentiment-roberta-large-english. Caching files will still work but in a degraded version that might require more space on your disk. This warning can be disabled by setting the `HF_HUB_DISABLE_SYMLINKS_WARNING` environment variable. For more details, see https://huggingface.co/docs/huggingface_hub/how-to-cache#limitations.\n",
      "To support symlinks on Windows, you either need to activate Developer Mode or to run Python as an administrator. In order to activate developer mode, see this article: https://docs.microsoft.com/en-us/windows/apps/get-started/enable-your-device-for-development\n",
      "  warnings.warn(message)\n"
     ]
    },
    {
     "data": {
      "application/vnd.jupyter.widget-view+json": {
       "model_id": "6110549315e44b85aea93c95281cce8e",
       "version_major": 2,
       "version_minor": 0
      },
      "text/plain": [
       "pytorch_model.bin:   0%|          | 0.00/1.42G [00:00<?, ?B/s]"
      ]
     },
     "metadata": {},
     "output_type": "display_data"
    },
    {
     "data": {
      "application/vnd.jupyter.widget-view+json": {
       "model_id": "3f5f89c2ca054415b5dec994edb27d1c",
       "version_major": 2,
       "version_minor": 0
      },
      "text/plain": [
       "tokenizer_config.json:   0%|          | 0.00/256 [00:00<?, ?B/s]"
      ]
     },
     "metadata": {},
     "output_type": "display_data"
    },
    {
     "data": {
      "application/vnd.jupyter.widget-view+json": {
       "model_id": "196ec56e4be64ba0a147fd5b8eccdd57",
       "version_major": 2,
       "version_minor": 0
      },
      "text/plain": [
       "vocab.json:   0%|          | 0.00/798k [00:00<?, ?B/s]"
      ]
     },
     "metadata": {},
     "output_type": "display_data"
    },
    {
     "data": {
      "application/vnd.jupyter.widget-view+json": {
       "model_id": "fcb5e44c3ab94d0bb38572d754d57eb8",
       "version_major": 2,
       "version_minor": 0
      },
      "text/plain": [
       "merges.txt:   0%|          | 0.00/456k [00:00<?, ?B/s]"
      ]
     },
     "metadata": {},
     "output_type": "display_data"
    },
    {
     "data": {
      "application/vnd.jupyter.widget-view+json": {
       "model_id": "0ac96c7cf2014bf3a39746353818ce88",
       "version_major": 2,
       "version_minor": 0
      },
      "text/plain": [
       "special_tokens_map.json:   0%|          | 0.00/150 [00:00<?, ?B/s]"
      ]
     },
     "metadata": {},
     "output_type": "display_data"
    },
    {
     "name": "stderr",
     "output_type": "stream",
     "text": [
      "100%|██████████| 7/7 [00:05<00:00,  1.33it/s]\n",
      "100%|██████████| 7/7 [00:09<00:00,  1.40s/it]\n",
      "100%|██████████| 7/7 [00:08<00:00,  1.23s/it]\n",
      "100%|██████████| 7/7 [00:29<00:00,  4.17s/it]\n"
     ]
    },
    {
     "data": {
      "text/html": [
       "<div>\n",
       "<style scoped>\n",
       "    .dataframe tbody tr th:only-of-type {\n",
       "        vertical-align: middle;\n",
       "    }\n",
       "\n",
       "    .dataframe tbody tr th {\n",
       "        vertical-align: top;\n",
       "    }\n",
       "\n",
       "    .dataframe thead th {\n",
       "        text-align: right;\n",
       "    }\n",
       "</style>\n",
       "<table border=\"1\" class=\"dataframe\">\n",
       "  <thead>\n",
       "    <tr style=\"text-align: right;\">\n",
       "      <th></th>\n",
       "      <th>review</th>\n",
       "      <th>sentiment</th>\n",
       "      <th>label_model1</th>\n",
       "      <th>score_model1</th>\n",
       "      <th>label_model2</th>\n",
       "      <th>score_model2</th>\n",
       "      <th>label_model3</th>\n",
       "      <th>score_model3</th>\n",
       "      <th>label_model4</th>\n",
       "      <th>score_model4</th>\n",
       "    </tr>\n",
       "  </thead>\n",
       "  <tbody>\n",
       "    <tr>\n",
       "      <th>0</th>\n",
       "      <td>One of the other reviewers has mentioned that ...</td>\n",
       "      <td>positive</td>\n",
       "      <td>NEGATIVE</td>\n",
       "      <td>0.601758</td>\n",
       "      <td>2 stars</td>\n",
       "      <td>0.266522</td>\n",
       "      <td>LABEL_1</td>\n",
       "      <td>0.470995</td>\n",
       "      <td>POSITIVE</td>\n",
       "      <td>0.998774</td>\n",
       "    </tr>\n",
       "    <tr>\n",
       "      <th>1</th>\n",
       "      <td>A wonderful little production. &lt;br /&gt;&lt;br /&gt;The...</td>\n",
       "      <td>positive</td>\n",
       "      <td>POSITIVE</td>\n",
       "      <td>0.999700</td>\n",
       "      <td>5 stars</td>\n",
       "      <td>0.506213</td>\n",
       "      <td>LABEL_2</td>\n",
       "      <td>0.973879</td>\n",
       "      <td>POSITIVE</td>\n",
       "      <td>0.998925</td>\n",
       "    </tr>\n",
       "    <tr>\n",
       "      <th>2</th>\n",
       "      <td>I thought this was a wonderful way to spend ti...</td>\n",
       "      <td>positive</td>\n",
       "      <td>POSITIVE</td>\n",
       "      <td>0.999031</td>\n",
       "      <td>4 stars</td>\n",
       "      <td>0.421487</td>\n",
       "      <td>LABEL_2</td>\n",
       "      <td>0.821539</td>\n",
       "      <td>POSITIVE</td>\n",
       "      <td>0.998933</td>\n",
       "    </tr>\n",
       "    <tr>\n",
       "      <th>3</th>\n",
       "      <td>Basically there's a family where a little boy ...</td>\n",
       "      <td>negative</td>\n",
       "      <td>NEGATIVE</td>\n",
       "      <td>0.999282</td>\n",
       "      <td>3 stars</td>\n",
       "      <td>0.426351</td>\n",
       "      <td>LABEL_0</td>\n",
       "      <td>0.596891</td>\n",
       "      <td>NEGATIVE</td>\n",
       "      <td>0.999474</td>\n",
       "    </tr>\n",
       "    <tr>\n",
       "      <th>4</th>\n",
       "      <td>Petter Mattei's \"Love in the Time of Money\" is...</td>\n",
       "      <td>positive</td>\n",
       "      <td>POSITIVE</td>\n",
       "      <td>0.999811</td>\n",
       "      <td>4 stars</td>\n",
       "      <td>0.532169</td>\n",
       "      <td>LABEL_2</td>\n",
       "      <td>0.870845</td>\n",
       "      <td>POSITIVE</td>\n",
       "      <td>0.998887</td>\n",
       "    </tr>\n",
       "  </tbody>\n",
       "</table>\n",
       "</div>"
      ],
      "text/plain": [
       "                                              review sentiment label_model1  \\\n",
       "0  One of the other reviewers has mentioned that ...  positive     NEGATIVE   \n",
       "1  A wonderful little production. <br /><br />The...  positive     POSITIVE   \n",
       "2  I thought this was a wonderful way to spend ti...  positive     POSITIVE   \n",
       "3  Basically there's a family where a little boy ...  negative     NEGATIVE   \n",
       "4  Petter Mattei's \"Love in the Time of Money\" is...  positive     POSITIVE   \n",
       "\n",
       "   score_model1 label_model2  score_model2 label_model3  score_model3  \\\n",
       "0      0.601758      2 stars      0.266522      LABEL_1      0.470995   \n",
       "1      0.999700      5 stars      0.506213      LABEL_2      0.973879   \n",
       "2      0.999031      4 stars      0.421487      LABEL_2      0.821539   \n",
       "3      0.999282      3 stars      0.426351      LABEL_0      0.596891   \n",
       "4      0.999811      4 stars      0.532169      LABEL_2      0.870845   \n",
       "\n",
       "  label_model4  score_model4  \n",
       "0     POSITIVE      0.998774  \n",
       "1     POSITIVE      0.998925  \n",
       "2     POSITIVE      0.998933  \n",
       "3     NEGATIVE      0.999474  \n",
       "4     POSITIVE      0.998887  "
      ]
     },
     "execution_count": 8,
     "metadata": {},
     "output_type": "execute_result"
    }
   ],
   "source": [
    "# Create the pipelines\n",
    "sentiment_model_1 = pipeline(\n",
    "    \"sentiment-analysis\",\n",
    "    model=\"distilbert-base-uncased-finetuned-sst-2-english\",\n",
    "    device=-1\n",
    ")\n",
    "sentiment_model_2 = pipeline(\n",
    "    \"sentiment-analysis\",\n",
    "    model=\"nlptown/bert-base-multilingual-uncased-sentiment\",\n",
    "    device=-1\n",
    ")\n",
    "sentiment_model_3 = pipeline(\n",
    "    \"sentiment-analysis\",\n",
    "    model=\"cardiffnlp/twitter-roberta-base-sentiment\",\n",
    "    device=-1\n",
    ")\n",
    "sentiment_model_4 = pipeline(\n",
    "    \"sentiment-analysis\",\n",
    "    model=\"siebert/sentiment-roberta-large-english\",\n",
    "    device=-1\n",
    ")\n",
    "\n",
    "# Function to predict in batches (faster than per review)\n",
    "def batch_predict(pipe, texts, batch_size=16, max_length=512):\n",
    "    results = []\n",
    "    for i in tqdm(range(0, len(texts), batch_size)):\n",
    "        batch = texts[i : i + batch_size]\n",
    "        # ensure the input is not too long for the model\n",
    "        batch = [t[:max_length] for t in batch]\n",
    "        preds = pipe(batch)\n",
    "        results.extend(preds)\n",
    "    return results\n",
    "\n",
    "# Make predictions\n",
    "texts = df['review'].tolist()\n",
    "preds1 = batch_predict(sentiment_model_1, texts)\n",
    "preds2 = batch_predict(sentiment_model_2, texts)\n",
    "preds3 = batch_predict(sentiment_model_3, texts)\n",
    "preds4 = batch_predict(sentiment_model_4, texts)\n",
    "\n",
    "# Unpack to labels and scores\n",
    "df['label_model1'] = [p['label'] for p in preds1]\n",
    "df['score_model1'] = [p['score'] for p in preds1]\n",
    "\n",
    "df['label_model2'] = [p['label'] for p in preds2]\n",
    "df['score_model2'] = [p['score'] for p in preds2]\n",
    "\n",
    "df['label_model3'] = [p['label'] for p in preds3]\n",
    "df['score_model3'] = [p['score'] for p in preds3]\n",
    "\n",
    "df['label_model4'] = [p['label'] for p in preds4]\n",
    "df['score_model4'] = [p['score'] for p in preds4]\n",
    "\n",
    "# Check the first few rows\n",
    "df.head()"
   ]
  },
  {
   "cell_type": "markdown",
   "id": "797d0eae",
   "metadata": {},
   "source": [
    "# Save results"
   ]
  },
  {
   "cell_type": "code",
   "execution_count": 9,
   "metadata": {},
   "outputs": [],
   "source": [
    "df.to_csv('result/sentiment_benchmarks.csv', index=False)"
   ]
  },
  {
   "cell_type": "markdown",
   "id": "63e70732",
   "metadata": {},
   "source": [
    "# Compute evaluation metrics"
   ]
  },
  {
   "cell_type": "code",
   "execution_count": null,
   "id": "80b03134",
   "metadata": {},
   "outputs": [
    {
     "name": "stdout",
     "output_type": "stream",
     "text": [
      "=== Model 1 ===\n",
      "Accuracy: 0.86\n",
      "              precision    recall  f1-score   support\n",
      "\n",
      "    negative       0.87      0.90      0.88        58\n",
      "    positive       0.85      0.81      0.83        42\n",
      "\n",
      "    accuracy                           0.86       100\n",
      "   macro avg       0.86      0.85      0.86       100\n",
      "weighted avg       0.86      0.86      0.86       100\n",
      "\n",
      "Confusion Matrix:\n",
      " [[52  6]\n",
      " [ 8 34]]\n",
      "\n",
      "=== Model 2 ===\n",
      "Accuracy: 0.81\n",
      "              precision    recall  f1-score   support\n",
      "\n",
      "    negative       0.91      0.74      0.82        58\n",
      "    positive       0.72      0.90      0.80        42\n",
      "\n",
      "    accuracy                           0.81       100\n",
      "   macro avg       0.82      0.82      0.81       100\n",
      "weighted avg       0.83      0.81      0.81       100\n",
      "\n",
      "Confusion Matrix:\n",
      " [[43 15]\n",
      " [ 4 38]]\n",
      "\n",
      "=== Model 3 ===\n",
      "Accuracy: 0.58\n",
      "              precision    recall  f1-score   support\n",
      "\n",
      "    negative       0.58      1.00      0.73        58\n",
      "    positive       0.00      0.00      0.00        42\n",
      "\n",
      "    accuracy                           0.58       100\n",
      "   macro avg       0.29      0.50      0.37       100\n",
      "weighted avg       0.34      0.58      0.43       100\n",
      "\n",
      "Confusion Matrix:\n",
      " [[58  0]\n",
      " [42  0]]\n",
      "\n",
      "=== Model 4 ===\n",
      "Accuracy: 0.93\n",
      "              precision    recall  f1-score   support\n",
      "\n",
      "    negative       0.96      0.91      0.94        58\n",
      "    positive       0.89      0.95      0.92        42\n",
      "\n",
      "    accuracy                           0.93       100\n",
      "   macro avg       0.93      0.93      0.93       100\n",
      "weighted avg       0.93      0.93      0.93       100\n",
      "\n",
      "Confusion Matrix:\n",
      " [[53  5]\n",
      " [ 2 40]]\n",
      "\n"
     ]
    }
   ],
   "source": [
    "# normalize model1 labels to lowercase\n",
    "df['pred1'] = df['label_model1'].str.lower()\n",
    "\n",
    "# map nlptown star-ratings to binary sentiment\n",
    "def star2bin(label):\n",
    "    stars = int(label.split()[0])\n",
    "    return 'negative' if stars <= 2 else 'positive'\n",
    "df['pred2'] = df['label_model2'].apply(star2bin)\n",
    "\n",
    "# map Twitter-RoBERTa three-way sentiment to binary (treat neutral as negative)\n",
    "def three2bin(label):\n",
    "    lab = label.lower()\n",
    "    return 'positive' if lab == 'positive' else 'negative'\n",
    "df['pred3'] = df['label_model3'].apply(three2bin)\n",
    "\n",
    "# normalize RoBERTa-large labels to lowercase\n",
    "df['pred4'] = df['label_model4'].str.lower()\n",
    "\n",
    "# true labels\n",
    "y_true = df['sentiment']\n",
    "\n",
    "# compute metrics for each model\n",
    "for i in range(1, 5):\n",
    "    y_pred = df[f'pred{i}']\n",
    "    print(f\"=== Model {i} ===\")\n",
    "    print(\"Accuracy:\", accuracy_score(y_true, y_pred))\n",
    "    print(classification_report(y_true, y_pred, zero_division=0))\n",
    "    print(\"Confusion Matrix:\\n\", confusion_matrix(y_true, y_pred))\n",
    "    print()"
   ]
  },
  {
   "cell_type": "markdown",
   "id": "27e1d0bb",
   "metadata": {},
   "source": [
    "# Save benchmark results"
   ]
  },
  {
   "cell_type": "code",
   "execution_count": 13,
   "id": "2a2e9b34",
   "metadata": {},
   "outputs": [],
   "source": [
    "# Write a consolidated benchmark report for all models\n",
    "with open('result/benchmark_report.txt', 'w') as f:\n",
    "    for i in range(1, 5):\n",
    "        # Select the right pred column\n",
    "        y_pred = df[f'pred{i}']\n",
    "        # Model name mapping\n",
    "        model_name = {\n",
    "            1: \"DistilBERT-SST2\",\n",
    "            2: \"nlptown Multilingual\",\n",
    "            3: \"Twitter-RoBERTa\",\n",
    "            4: \"RoBERTa-large SST2\"\n",
    "        }[i]\n",
    "\n",
    "        f.write(f\"Model {i} ({model_name})\\n\")\n",
    "        f.write(f\"Accuracy: {accuracy_score(y_true, y_pred):.4f}\\n\\n\")\n",
    "        f.write(classification_report(y_true, y_pred, zero_division=0))\n",
    "        f.write(\"\\n\" + (\"-\"*40) + \"\\n\\n\")"
   ]
  }
 ],
 "metadata": {
  "kernelspec": {
   "display_name": "Python 3",
   "language": "python",
   "name": "python3"
  },
  "language_info": {
   "codemirror_mode": {
    "name": "ipython",
    "version": 3
   },
   "file_extension": ".py",
   "mimetype": "text/x-python",
   "name": "python",
   "nbconvert_exporter": "python",
   "pygments_lexer": "ipython3",
   "version": "3.11.5"
  }
 },
 "nbformat": 4,
 "nbformat_minor": 5
}
